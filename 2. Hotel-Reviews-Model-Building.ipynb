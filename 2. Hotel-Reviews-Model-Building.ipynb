{
 "cells": [
  {
   "cell_type": "code",
   "execution_count": 1,
   "id": "bc2431ba",
   "metadata": {},
   "outputs": [],
   "source": [
    "import pandas as pd\n",
    "import numpy as np\n",
    "import matplotlib.pyplot as plt\n",
    "import seaborn as sns\n",
    "%matplotlib inline\n",
    "\n",
    "import warnings\n",
    "warnings.filterwarnings('ignore')"
   ]
  },
  {
   "cell_type": "code",
   "execution_count": 2,
   "id": "cdf0e1af",
   "metadata": {},
   "outputs": [
    {
     "data": {
      "text/html": [
       "<div>\n",
       "<style scoped>\n",
       "    .dataframe tbody tr th:only-of-type {\n",
       "        vertical-align: middle;\n",
       "    }\n",
       "\n",
       "    .dataframe tbody tr th {\n",
       "        vertical-align: top;\n",
       "    }\n",
       "\n",
       "    .dataframe thead th {\n",
       "        text-align: right;\n",
       "    }\n",
       "</style>\n",
       "<table border=\"1\" class=\"dataframe\">\n",
       "  <thead>\n",
       "    <tr style=\"text-align: right;\">\n",
       "      <th></th>\n",
       "      <th>Rating</th>\n",
       "      <th>New_Review</th>\n",
       "      <th>Sentiment</th>\n",
       "    </tr>\n",
       "  </thead>\n",
       "  <tbody>\n",
       "    <tr>\n",
       "      <th>0</th>\n",
       "      <td>4</td>\n",
       "      <td>nice hotel expensive parking got good deal sta...</td>\n",
       "      <td>positive</td>\n",
       "    </tr>\n",
       "    <tr>\n",
       "      <th>1</th>\n",
       "      <td>2</td>\n",
       "      <td>ok nothing special charge diamond member hilto...</td>\n",
       "      <td>positive</td>\n",
       "    </tr>\n",
       "    <tr>\n",
       "      <th>2</th>\n",
       "      <td>3</td>\n",
       "      <td>nice room experience hotel monaco seattle good...</td>\n",
       "      <td>positive</td>\n",
       "    </tr>\n",
       "    <tr>\n",
       "      <th>3</th>\n",
       "      <td>5</td>\n",
       "      <td>unique great stay wonderful time hotel monaco ...</td>\n",
       "      <td>positive</td>\n",
       "    </tr>\n",
       "    <tr>\n",
       "      <th>4</th>\n",
       "      <td>5</td>\n",
       "      <td>great stay great stay wenot seahawk game aweso...</td>\n",
       "      <td>positive</td>\n",
       "    </tr>\n",
       "  </tbody>\n",
       "</table>\n",
       "</div>"
      ],
      "text/plain": [
       "   Rating                                         New_Review Sentiment\n",
       "0       4  nice hotel expensive parking got good deal sta...  positive\n",
       "1       2  ok nothing special charge diamond member hilto...  positive\n",
       "2       3  nice room experience hotel monaco seattle good...  positive\n",
       "3       5  unique great stay wonderful time hotel monaco ...  positive\n",
       "4       5  great stay great stay wenot seahawk game aweso...  positive"
      ]
     },
     "execution_count": 2,
     "metadata": {},
     "output_type": "execute_result"
    }
   ],
   "source": [
    "df=pd.read_csv('Final Data.csv')\n",
    "df.drop({\"Unnamed: 0\",'Polarity','Scores','Review','len'},inplace=True,axis=1)\n",
    "df.head()"
   ]
  },
  {
   "cell_type": "code",
   "execution_count": 3,
   "id": "9f323b99",
   "metadata": {},
   "outputs": [
    {
     "data": {
      "text/html": [
       "<div>\n",
       "<style scoped>\n",
       "    .dataframe tbody tr th:only-of-type {\n",
       "        vertical-align: middle;\n",
       "    }\n",
       "\n",
       "    .dataframe tbody tr th {\n",
       "        vertical-align: top;\n",
       "    }\n",
       "\n",
       "    .dataframe thead th {\n",
       "        text-align: right;\n",
       "    }\n",
       "</style>\n",
       "<table border=\"1\" class=\"dataframe\">\n",
       "  <thead>\n",
       "    <tr style=\"text-align: right;\">\n",
       "      <th></th>\n",
       "      <th>Rating</th>\n",
       "      <th>New_Review</th>\n",
       "      <th>Sentiment</th>\n",
       "      <th>target</th>\n",
       "    </tr>\n",
       "  </thead>\n",
       "  <tbody>\n",
       "    <tr>\n",
       "      <th>0</th>\n",
       "      <td>4</td>\n",
       "      <td>nice hotel expensive parking got good deal sta...</td>\n",
       "      <td>positive</td>\n",
       "      <td>1</td>\n",
       "    </tr>\n",
       "    <tr>\n",
       "      <th>1</th>\n",
       "      <td>2</td>\n",
       "      <td>ok nothing special charge diamond member hilto...</td>\n",
       "      <td>positive</td>\n",
       "      <td>1</td>\n",
       "    </tr>\n",
       "    <tr>\n",
       "      <th>2</th>\n",
       "      <td>3</td>\n",
       "      <td>nice room experience hotel monaco seattle good...</td>\n",
       "      <td>positive</td>\n",
       "      <td>1</td>\n",
       "    </tr>\n",
       "    <tr>\n",
       "      <th>3</th>\n",
       "      <td>5</td>\n",
       "      <td>unique great stay wonderful time hotel monaco ...</td>\n",
       "      <td>positive</td>\n",
       "      <td>1</td>\n",
       "    </tr>\n",
       "    <tr>\n",
       "      <th>4</th>\n",
       "      <td>5</td>\n",
       "      <td>great stay great stay wenot seahawk game aweso...</td>\n",
       "      <td>positive</td>\n",
       "      <td>1</td>\n",
       "    </tr>\n",
       "  </tbody>\n",
       "</table>\n",
       "</div>"
      ],
      "text/plain": [
       "   Rating                                         New_Review Sentiment  target\n",
       "0       4  nice hotel expensive parking got good deal sta...  positive       1\n",
       "1       2  ok nothing special charge diamond member hilto...  positive       1\n",
       "2       3  nice room experience hotel monaco seattle good...  positive       1\n",
       "3       5  unique great stay wonderful time hotel monaco ...  positive       1\n",
       "4       5  great stay great stay wenot seahawk game aweso...  positive       1"
      ]
     },
     "execution_count": 3,
     "metadata": {},
     "output_type": "execute_result"
    }
   ],
   "source": [
    "df['target'] = df['Sentiment'].replace({'positive':1,'neutral':0,'negative':-1})\n",
    "df.head()"
   ]
  },
  {
   "cell_type": "code",
   "execution_count": 4,
   "id": "77bc65c4",
   "metadata": {},
   "outputs": [],
   "source": [
    "from sklearn.feature_extraction.text import TfidfVectorizer\n",
    "from nltk import word_tokenize\n",
    "tfidf = TfidfVectorizer(ngram_range=(1, 2), max_features=10000, tokenizer = word_tokenize)\n",
    "X = tfidf.fit_transform(df['New_Review'])\n",
    "y = df['target']"
   ]
  },
  {
   "cell_type": "code",
   "execution_count": 5,
   "id": "8f17155d",
   "metadata": {},
   "outputs": [],
   "source": [
    "import pickle\n",
    "pickle_out=open('vectorizer.pkl','wb')\n",
    "pickle.dump(tfidf,pickle_out)\n",
    "pickle_out.close()"
   ]
  },
  {
   "cell_type": "markdown",
   "id": "90e6686b",
   "metadata": {},
   "source": [
    "#### Splitting dataset"
   ]
  },
  {
   "cell_type": "code",
   "execution_count": 6,
   "id": "9bd1627a",
   "metadata": {},
   "outputs": [
    {
     "name": "stdout",
     "output_type": "stream",
     "text": [
      "(15368, 10000)\n",
      "(15368,)\n",
      "(5123, 10000)\n",
      "(5123,)\n"
     ]
    }
   ],
   "source": [
    "from sklearn.model_selection import train_test_split\n",
    "X_train, X_test, y_train, y_test = train_test_split(X, y, test_size= 0.25, random_state=123)\n",
    "print(X_train.shape)\n",
    "print(y_train.shape)\n",
    "print(X_test.shape)\n",
    "print(y_test.shape)"
   ]
  },
  {
   "cell_type": "markdown",
   "id": "b5406150",
   "metadata": {},
   "source": [
    "#### Multinominal Naive Bayes Classifier"
   ]
  },
  {
   "cell_type": "code",
   "execution_count": 7,
   "id": "ba57881e",
   "metadata": {},
   "outputs": [
    {
     "name": "stdout",
     "output_type": "stream",
     "text": [
      "Naive Bayes: 92.29\n"
     ]
    }
   ],
   "source": [
    "from sklearn.naive_bayes import MultinomialNB\n",
    "from sklearn.metrics import accuracy_score\n",
    "\n",
    "classf = MultinomialNB()\n",
    "classf.fit(X_train, y_train)\n",
    "pred = classf.predict(X_test)\n",
    "mul_model_score=round(accuracy_score(y_test, pred)*100,2)\n",
    "print(\"Naive Bayes:\",mul_model_score)"
   ]
  },
  {
   "cell_type": "markdown",
   "id": "4a3947d9",
   "metadata": {},
   "source": [
    "#### Logistic Regression"
   ]
  },
  {
   "cell_type": "code",
   "execution_count": 8,
   "id": "e6f2a009",
   "metadata": {},
   "outputs": [
    {
     "name": "stdout",
     "output_type": "stream",
     "text": [
      "Logistic Regression: 94.51\n"
     ]
    }
   ],
   "source": [
    "from sklearn.linear_model import LogisticRegression\n",
    "lr_model = LogisticRegression()\n",
    "lr_model.fit(X_train, y_train)\n",
    "pred = lr_model.predict(X_test)\n",
    "log_model_score=round(accuracy_score(y_test, pred)*100,2)\n",
    "print(\"Logistic Regression:\",log_model_score)"
   ]
  },
  {
   "cell_type": "markdown",
   "id": "a7efea3f",
   "metadata": {},
   "source": [
    "#### Decision Tree"
   ]
  },
  {
   "cell_type": "code",
   "execution_count": 9,
   "id": "0df86ac0",
   "metadata": {},
   "outputs": [
    {
     "name": "stdout",
     "output_type": "stream",
     "text": [
      "Decision Tree: 90.96\n"
     ]
    }
   ],
   "source": [
    "from sklearn.tree import DecisionTreeClassifier\n",
    "dt_model=DecisionTreeClassifier()\n",
    "dt_model.fit(X_train,y_train)\n",
    "pred = dt_model.predict(X_test)\n",
    "dec_model_score=round(accuracy_score(y_test, pred)*100,2)\n",
    "print(\"Decision Tree:\",dec_model_score)"
   ]
  },
  {
   "cell_type": "markdown",
   "id": "b91b1076",
   "metadata": {},
   "source": [
    "#### Random Forest"
   ]
  },
  {
   "cell_type": "code",
   "execution_count": 10,
   "id": "6a52db44",
   "metadata": {},
   "outputs": [
    {
     "name": "stdout",
     "output_type": "stream",
     "text": [
      "Random Forest: 92.84\n"
     ]
    }
   ],
   "source": [
    "from sklearn.ensemble import RandomForestClassifier\n",
    "rf_model=RandomForestClassifier()\n",
    "rf_model.fit(X_train,y_train)\n",
    "pred = rf_model.predict(X_test)\n",
    "ran_model_score=round(accuracy_score(y_test, pred)*100,2)\n",
    "print(\"Random Forest:\",ran_model_score)"
   ]
  },
  {
   "cell_type": "markdown",
   "id": "b9e5f011",
   "metadata": {},
   "source": [
    "#### Ada Boost"
   ]
  },
  {
   "cell_type": "code",
   "execution_count": 11,
   "id": "d9b098ce",
   "metadata": {},
   "outputs": [
    {
     "name": "stdout",
     "output_type": "stream",
     "text": [
      "AdaBoost: 93.85\n"
     ]
    }
   ],
   "source": [
    "from sklearn.ensemble import AdaBoostClassifier\n",
    "ada_model=AdaBoostClassifier()\n",
    "ada_model.fit(X_train,y_train)\n",
    "pred = ada_model.predict(X_test)\n",
    "ada_model_score=round(accuracy_score(y_test, pred)*100,2)\n",
    "print(\"AdaBoost:\",ada_model_score)"
   ]
  },
  {
   "cell_type": "markdown",
   "id": "6f85ac79",
   "metadata": {},
   "source": [
    "#### Linear SVC"
   ]
  },
  {
   "cell_type": "code",
   "execution_count": 12,
   "id": "89a694cb",
   "metadata": {},
   "outputs": [
    {
     "name": "stdout",
     "output_type": "stream",
     "text": [
      "Linear SVC: 95.37\n"
     ]
    }
   ],
   "source": [
    "from sklearn.svm import LinearSVC\n",
    "svc_model = LinearSVC()\n",
    "svc_model.fit(X_train, y_train)\n",
    "pred = svc_model.predict(X_test)\n",
    "svc_model_score=round(accuracy_score(y_test, pred)*100,2)\n",
    "print(\"Linear SVC:\",svc_model_score)"
   ]
  },
  {
   "cell_type": "markdown",
   "id": "e27c1c78",
   "metadata": {},
   "source": [
    "#### Model Evaluation "
   ]
  },
  {
   "cell_type": "code",
   "execution_count": 13,
   "id": "891cd479",
   "metadata": {},
   "outputs": [
    {
     "data": {
      "text/html": [
       "<div>\n",
       "<style scoped>\n",
       "    .dataframe tbody tr th:only-of-type {\n",
       "        vertical-align: middle;\n",
       "    }\n",
       "\n",
       "    .dataframe tbody tr th {\n",
       "        vertical-align: top;\n",
       "    }\n",
       "\n",
       "    .dataframe thead th {\n",
       "        text-align: right;\n",
       "    }\n",
       "</style>\n",
       "<table border=\"1\" class=\"dataframe\">\n",
       "  <thead>\n",
       "    <tr style=\"text-align: right;\">\n",
       "      <th></th>\n",
       "      <th>Models</th>\n",
       "      <th>Accuracy Score</th>\n",
       "    </tr>\n",
       "  </thead>\n",
       "  <tbody>\n",
       "    <tr>\n",
       "      <th>0</th>\n",
       "      <td>Linear SVC</td>\n",
       "      <td>95.37</td>\n",
       "    </tr>\n",
       "    <tr>\n",
       "      <th>1</th>\n",
       "      <td>Logistic Regression</td>\n",
       "      <td>94.51</td>\n",
       "    </tr>\n",
       "    <tr>\n",
       "      <th>2</th>\n",
       "      <td>Ada Boost</td>\n",
       "      <td>93.85</td>\n",
       "    </tr>\n",
       "    <tr>\n",
       "      <th>3</th>\n",
       "      <td>Random Forest</td>\n",
       "      <td>92.84</td>\n",
       "    </tr>\n",
       "    <tr>\n",
       "      <th>4</th>\n",
       "      <td>Multinominal Naive Bayes</td>\n",
       "      <td>92.29</td>\n",
       "    </tr>\n",
       "    <tr>\n",
       "      <th>5</th>\n",
       "      <td>Decision Tree</td>\n",
       "      <td>90.96</td>\n",
       "    </tr>\n",
       "  </tbody>\n",
       "</table>\n",
       "</div>"
      ],
      "text/plain": [
       "                     Models  Accuracy Score\n",
       "0                Linear SVC           95.37\n",
       "1       Logistic Regression           94.51\n",
       "2                 Ada Boost           93.85\n",
       "3             Random Forest           92.84\n",
       "4  Multinominal Naive Bayes           92.29\n",
       "5             Decision Tree           90.96"
      ]
     },
     "execution_count": 13,
     "metadata": {},
     "output_type": "execute_result"
    }
   ],
   "source": [
    "Evaluation = {\n",
    "    \"Models\":pd.Series([\"Multinominal Naive Bayes\",\"Logistic Regression\",\"Decision Tree\",\"Random Forest\",\"Ada Boost\",\"Linear SVC\"]),\\\n",
    "    \"Accuracy Score\":pd.Series([mul_model_score,log_model_score,dec_model_score,ran_model_score,ada_model_score,svc_model_score])}\n",
    "table_evaluation=pd.DataFrame(Evaluation)\n",
    "table_evaluation.sort_values(['Accuracy Score'], inplace=True, ignore_index=True,ascending=False)\n",
    "table_evaluation"
   ]
  },
  {
   "cell_type": "markdown",
   "id": "c841651d",
   "metadata": {},
   "source": [
    "#### Observation : Among all the models Linear SVC give better accuracy.i.e we select Linear SVC as Final Model."
   ]
  },
  {
   "cell_type": "markdown",
   "id": "5d397fcf",
   "metadata": {},
   "source": [
    "#### Final Model - Linear SVC"
   ]
  },
  {
   "cell_type": "code",
   "execution_count": 14,
   "id": "46796004",
   "metadata": {},
   "outputs": [
    {
     "name": "stdout",
     "output_type": "stream",
     "text": [
      "on Test Data:\n",
      "Confusion Matrix:\n",
      " [[ 210    0  132]\n",
      " [  12    0   55]\n",
      " [  37    1 4676]]\n",
      "Accuracy Score: 95.37\n",
      "              precision    recall  f1-score   support\n",
      "\n",
      "          -1       0.81      0.61      0.70       342\n",
      "           0       0.00      0.00      0.00        67\n",
      "           1       0.96      0.99      0.98      4714\n",
      "\n",
      "    accuracy                           0.95      5123\n",
      "   macro avg       0.59      0.54      0.56      5123\n",
      "weighted avg       0.94      0.95      0.95      5123\n",
      "\n"
     ]
    },
    {
     "data": {
      "image/png": "[encoded data removed]",
      "text/plain": [
       "<Figure size 432x288 with 2 Axes>"
      ]
     },
     "metadata": {
      "needs_background": "light"
     },
     "output_type": "display_data"
    }
   ],
   "source": [
    "from sklearn.metrics import confusion_matrix,classification_report,plot_confusion_matrix\n",
    "final_model = LinearSVC()\n",
    "final_model.fit(X_train, y_train)\n",
    "print(\"on Test Data:\")\n",
    "pred_test = final_model.predict(X_test)\n",
    "cm = confusion_matrix(y_test, pred_test)\n",
    "print(\"Confusion Matrix:\\n\",cm)\n",
    "svc_model_score=round(accuracy_score(y_test, pred_test)*100,2)\n",
    "print(\"Accuracy Score:\",svc_model_score)\n",
    "print(classification_report(y_test,pred_test))\n",
    "\n",
    "plot_confusion_matrix(final_model, X_test, y_test,cmap=plt.cm.Blues)\n",
    "plt.show()"
   ]
  },
  {
   "cell_type": "markdown",
   "id": "7ada32a6",
   "metadata": {},
   "source": [
    "#### Prediction"
   ]
  },
  {
   "cell_type": "code",
   "execution_count": 15,
   "id": "7ae9b2e1",
   "metadata": {},
   "outputs": [],
   "source": [
    "import re\n",
    "import nltk\n",
    "from nltk.stem import PorterStemmer\n",
    "from nltk.stem import WordNetLemmatizer\n",
    "from nltk.corpus import stopwords\n",
    "from sklearn.feature_extraction.text import CountVectorizer\n",
    "wordnet=WordNetLemmatizer()\n",
    "ps = PorterStemmer()\n",
    "cv = CountVectorizer()\n",
    "from wordcloud import WordCloud, STOPWORDS\n",
    "from rake_nltk import Rake"
   ]
  },
  {
   "cell_type": "code",
   "execution_count": 16,
   "id": "2534be28",
   "metadata": {},
   "outputs": [],
   "source": [
    "def get_top_n2_words(corpus, n=None):\n",
    "    vec1 = TfidfVectorizer(ngram_range=(2,2),  #for tri-gram, put ngram_range=(3,3)\n",
    "            max_features=2000).fit(corpus)\n",
    "    bag_of_words = vec1.transform(corpus)\n",
    "    sum_words = bag_of_words.sum(axis=0) \n",
    "    words_freq = [(word, sum_words[0, idx]) for word, idx in     \n",
    "                  vec1.vocabulary_.items()]\n",
    "    words_freq =sorted(words_freq, key = lambda x: x[1], \n",
    "                reverse=True)\n",
    "    return words_freq[:n]"
   ]
  },
  {
   "cell_type": "code",
   "execution_count": 17,
   "id": "373b8d3a",
   "metadata": {},
   "outputs": [],
   "source": [
    "def clean_text(a):\n",
    "    print(\"Number of words in Review:\", len(a.split()))\n",
    "    text=re.sub('[^A-za-z0-9]',' ',a)\n",
    "    text=text.lower()\n",
    "    text=text.split(' ')\n",
    "    text = [wordnet.lemmatize(word) for word in text if word not in (stopwords.words('english'))]\n",
    "    text = ' '.join(text)\n",
    "   \n",
    "    top2_words = get_top_n2_words([text],n=5) \n",
    "    df = pd.DataFrame(top2_words)\n",
    "    df.columns=[\"Bi-gram\", \"Freq\"]\n",
    "    print(df)\n",
    "    \n",
    "    return text"
   ]
  },
  {
   "cell_type": "code",
   "execution_count": 18,
   "id": "a7662b41",
   "metadata": {},
   "outputs": [],
   "source": [
    "def expression_check(prediction_input):\n",
    "    if prediction_input == -1:\n",
    "        print(\"Negative\")\n",
    "    elif prediction_input == 1:\n",
    "        print(\"Positive\")\n",
    "    else:\n",
    "        print(\"Neutral\")"
   ]
  },
  {
   "cell_type": "code",
   "execution_count": 19,
   "id": "5fb8d885",
   "metadata": {},
   "outputs": [],
   "source": [
    "def sentiment_predictor(input):\n",
    "    input = clean_text(input)\n",
    "    transformed_input = tfidf.transform([input])\n",
    "    prediction = final_model.predict(transformed_input)\n",
    "    expression_check(prediction)\n",
    "    r = Rake(language='english', stopwords=STOPWORDS)\n",
    "    r.extract_keywords_from_text(input)\n",
    "    r.get_ranked_phrases()\n",
    "    print(r.get_ranked_phrases())"
   ]
  },
  {
   "cell_type": "code",
   "execution_count": 20,
   "id": "fa5f5ab1",
   "metadata": {},
   "outputs": [
    {
     "name": "stdout",
     "output_type": "stream",
     "text": [
      "Number of words in Review: 15\n",
      "          Bi-gram      Freq\n",
      "0     hotel worst  0.333333\n",
      "1       worst one  0.333333\n",
      "2       one staff  0.333333\n",
      "3  staff terrible  0.333333\n",
      "4  terrible front  0.333333\n",
      "Negative\n",
      "['hotel worst one staff terrible front desk guy worst indifferent']\n"
     ]
    }
   ],
   "source": [
    "negative_review_test= (\"This is hotel is the worst one....Staff are terrible....front desk guys were worst and indifferent..\")\n",
    "sentiment_predictor(negative_review_test)"
   ]
  },
  {
   "cell_type": "code",
   "execution_count": 21,
   "id": "c762005b",
   "metadata": {},
   "outputs": [
    {
     "name": "stdout",
     "output_type": "stream",
     "text": [
      "Number of words in Review: 25\n",
      "         Bi-gram      Freq\n",
      "0  room enormous  0.288675\n",
      "1  enormous nice  0.288675\n",
      "2      nice view  0.288675\n",
      "3     view river  0.288675\n",
      "4      river 105  0.288675\n",
      "Positive\n",
      "['room enormous nice view river 105 degree fahrenheit stayed every thing kept cool']\n"
     ]
    }
   ],
   "source": [
    "positive_review_test = (\"Our room was enormous, with a nice view of the river. It was 105 degrees (Fahrenheit) when we stayed but every thing was kept cool\")\n",
    "sentiment_predictor(positive_review_test)"
   ]
  },
  {
   "cell_type": "code",
   "execution_count": 22,
   "id": "7a313e63",
   "metadata": {},
   "outputs": [],
   "source": [
    "import pickle\n",
    "# Saving the pickle file\n",
    "pickle.dump(final_model, open('Hotel_Rating_SVC.pkl','wb'))"
   ]
  },
  {
   "cell_type": "code",
   "execution_count": null,
   "id": "237036d3",
   "metadata": {},
   "outputs": [],
   "source": []
  }
 ],
 "metadata": {
  "kernelspec": {
   "display_name": "Python 3 (ipykernel)",
   "language": "python",
   "name": "python3"
  },
  "language_info": {
   "codemirror_mode": {
    "name": "ipython",
    "version": 3
   },
   "file_extension": ".py",
   "mimetype": "text/x-python",
   "name": "python",
   "nbconvert_exporter": "python",
   "pygments_lexer": "ipython3",
   "version": "3.10.5"
  }
 },
 "nbformat": 4,
 "nbformat_minor": 5
}
